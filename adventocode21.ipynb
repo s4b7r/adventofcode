{
 "cells": [
  {
   "cell_type": "markdown",
   "id": "17ed310d-5726-406b-9ea1-31829a970336",
   "metadata": {},
   "source": [
    "# Advent of Code 2021"
   ]
  },
  {
   "cell_type": "markdown",
   "id": "a45dcad4-7625-473d-b66a-978625f89aed",
   "metadata": {},
   "source": [
    "## Day 1 Part 1"
   ]
  },
  {
   "cell_type": "code",
   "execution_count": null,
   "id": "d59f76cc-8203-425e-92b0-31c2192f4a5d",
   "metadata": {},
   "outputs": [],
   "source": [
    "import numpy as np"
   ]
  },
  {
   "cell_type": "code",
   "execution_count": null,
   "id": "2539b6f1-01fe-421a-a7a5-596fbd09315b",
   "metadata": {},
   "outputs": [],
   "source": [
    "depths = np.loadtxt('1-input.txt')\n",
    "depths"
   ]
  },
  {
   "cell_type": "code",
   "execution_count": null,
   "id": "b391148d-6193-4fbe-9451-ee2837bf0971",
   "metadata": {},
   "outputs": [],
   "source": [
    "len(depths)"
   ]
  },
  {
   "cell_type": "code",
   "execution_count": null,
   "id": "3ba0dd23-dda0-4bdb-acfa-4a99a7874657",
   "metadata": {},
   "outputs": [],
   "source": [
    "dd_gt0 = np.diff(depths) > 0"
   ]
  },
  {
   "cell_type": "code",
   "execution_count": null,
   "id": "7d99bd8d-5408-4d74-b8fc-65d90ffd7a57",
   "metadata": {},
   "outputs": [],
   "source": [
    "num_dd_gt0 = np.count_nonzero(dd_gt0)\n",
    "num_dd_gt0"
   ]
  },
  {
   "cell_type": "markdown",
   "id": "f1e9e873-e88a-47c9-92f4-1c5af4313c9a",
   "metadata": {},
   "source": [
    "## Day 1 Part 2"
   ]
  },
  {
   "cell_type": "code",
   "execution_count": null,
   "id": "8344a202-56a2-4eef-b5fe-57ed7813b065",
   "metadata": {},
   "outputs": [],
   "source": [
    "window_sums = depths[:-2] + depths[1:-1] + depths[2:]"
   ]
  },
  {
   "cell_type": "code",
   "execution_count": null,
   "id": "a76200c7-beb0-45c6-bd08-5761de177b88",
   "metadata": {},
   "outputs": [],
   "source": [
    "assert sum(depths[:3]) == window_sums[0]"
   ]
  },
  {
   "cell_type": "code",
   "execution_count": null,
   "id": "0d09cc4d-3803-46bf-9d23-fb7fa4024792",
   "metadata": {},
   "outputs": [],
   "source": [
    "for i,(a,b,c) in enumerate(zip(depths[:-2], depths[1:-1], depths[2:])):\n",
    "    assert sum((a,b,c)) == window_sums[i]"
   ]
  },
  {
   "cell_type": "code",
   "execution_count": null,
   "id": "4c1a5ba5-cae4-4e73-8c4b-d41ec914fae1",
   "metadata": {},
   "outputs": [],
   "source": [
    "dwindows_gt0 = np.diff(window_sums) > 0\n",
    "num_dwindows_gt0 = np.count_nonzero(dwindows_gt0)\n",
    "num_dwindows_gt0"
   ]
  },
  {
   "cell_type": "markdown",
   "id": "5aa46d3f-2af2-483b-8eb4-952a270a5d33",
   "metadata": {},
   "source": [
    "## Day 2 Part 1"
   ]
  },
  {
   "cell_type": "code",
   "execution_count": null,
   "id": "e5a4fdbe-c178-478d-bb05-cd167f0156ec",
   "metadata": {},
   "outputs": [],
   "source": [
    "depth = 0\n",
    "hpos = 0"
   ]
  },
  {
   "cell_type": "code",
   "execution_count": null,
   "id": "26aab8ad-e29e-43a8-9a97-b143a5f54a99",
   "metadata": {},
   "outputs": [],
   "source": [
    "with open('2-input.txt', 'r') as course:\n",
    "    for command in course:\n",
    "        cmd, arg = command.split(' ')\n",
    "        if cmd == 'forward':\n",
    "            hpos += int(arg)\n",
    "        if cmd == 'down':\n",
    "            depth += int(arg)\n",
    "        if cmd == 'up':\n",
    "            depth -= int(arg)\n",
    "print(depth * hpos)"
   ]
  },
  {
   "cell_type": "markdown",
   "id": "30d30154-f52d-471e-baae-026e1201d24e",
   "metadata": {},
   "source": [
    "## Day 2 Part 2"
   ]
  },
  {
   "cell_type": "code",
   "execution_count": null,
   "id": "1ca7a359-fa6f-4764-b070-b7a147ecc4a1",
   "metadata": {},
   "outputs": [],
   "source": [
    "depth = 0\n",
    "hpos = 0\n",
    "aim = 0\n",
    "with open('2-input.txt', 'r') as course:\n",
    "    for command in course:\n",
    "        cmd, arg = command.split(' ')\n",
    "        if cmd == 'forward':\n",
    "            hpos += int(arg)\n",
    "            depth += int(arg) * aim\n",
    "        if cmd == 'down':\n",
    "            aim += int(arg)\n",
    "        if cmd == 'up':\n",
    "            aim -= int(arg)\n",
    "print(depth * hpos)"
   ]
  },
  {
   "cell_type": "markdown",
   "id": "8023b71e-e193-47ce-b1f6-72432e50a066",
   "metadata": {},
   "source": [
    "## Day 3 Part 1"
   ]
  },
  {
   "cell_type": "code",
   "execution_count": null,
   "id": "30a0bdce-9087-4620-92a8-03bf0a2bbaff",
   "metadata": {},
   "outputs": [],
   "source": [
    "report = []\n",
    "with open('3-input.txt', 'r') as file:\n",
    "    for line in file:\n",
    "        line = line.strip()\n",
    "        report.append(line)\n",
    "len(report)"
   ]
  },
  {
   "cell_type": "code",
   "execution_count": null,
   "id": "9f703340-e54c-4a48-9f4f-51d2becb749d",
   "metadata": {},
   "outputs": [],
   "source": [
    "report[0]"
   ]
  },
  {
   "cell_type": "code",
   "execution_count": null,
   "id": "30378697-c5c0-4cc9-88c0-d58ad6067dc8",
   "metadata": {},
   "outputs": [],
   "source": [
    "dominant_bits = []\n",
    "for col in zip(*report):\n",
    "    dominant_bits.append('1' if sum(map(int, col)) > len(report) / 2 else '0')\n",
    "assert len(dominant_bits) == len(report[0])"
   ]
  },
  {
   "cell_type": "code",
   "execution_count": null,
   "id": "3c9e9e5d-5a31-437b-9616-7fe17a41cd53",
   "metadata": {},
   "outputs": [],
   "source": [
    "gamma_rate_bits = dominant_bits\n",
    "epsilon_rate_bits = ['1' if bit == '0' else '0' for bit in dominant_bits]"
   ]
  },
  {
   "cell_type": "code",
   "execution_count": null,
   "id": "10482031-e12f-4d6f-9298-1b6aeae610c9",
   "metadata": {},
   "outputs": [],
   "source": [
    "bits_to_dec = lambda bits: sum([2**i * int(bit) for i, bit in enumerate(reversed(bits))])\n",
    "gamma_rate = bits_to_dec(gamma_rate_bits)\n",
    "epsilon_rate = bits_to_dec(epsilon_rate_bits)"
   ]
  },
  {
   "cell_type": "code",
   "execution_count": null,
   "id": "4c355211-5677-4471-9ed3-e6c97a69a6c3",
   "metadata": {},
   "outputs": [],
   "source": [
    "power_rate = gamma_rate * epsilon_rate\n",
    "power_rate"
   ]
  },
  {
   "cell_type": "code",
   "execution_count": null,
   "id": "b339fe45-bfe3-422f-be54-d7136ec16dfc",
   "metadata": {},
   "outputs": [],
   "source": []
  }
 ],
 "metadata": {
  "language_info": {
   "name": "python",
   "pygments_lexer": "ipython3"
  }
 },
 "nbformat": 4,
 "nbformat_minor": 5
}
